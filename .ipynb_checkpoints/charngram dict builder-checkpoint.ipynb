{
 "cells": [
  {
   "cell_type": "code",
   "execution_count": 1,
   "metadata": {},
   "outputs": [],
   "source": [
    "from tqdm import tqdm\n",
    "import math\n",
    "import numpy as np\n",
    "import matplotlib.pyplot as plt\n",
    "%matplotlib inline"
   ]
  },
  {
   "cell_type": "code",
   "execution_count": 2,
   "metadata": {},
   "outputs": [],
   "source": [
    "with open('english_dict1.txt', 'r', encoding='utf-8') as f:\n",
    "    lines = f.readlines()\n",
    "lines = [line.replace('\\n', '') for line in lines]"
   ]
  },
  {
   "cell_type": "code",
   "execution_count": 3,
   "metadata": {},
   "outputs": [],
   "source": [
    "def build_charngram(word, n):\n",
    "    return [word[i:i+n] for i in range(len(word)-n+1)]\n",
    "\n",
    "def build_freqs(sample, n_chars):\n",
    "    chars = {}\n",
    "    ndict = {}\n",
    "    for n in n_chars:\n",
    "        ndict[n] = 0\n",
    "        chars[n] = {} \n",
    "        \n",
    "    for word in tqdm(sample):\n",
    "        for n in n_chars:\n",
    "            charngrams = build_charngram(word, n)\n",
    "            ndict[n] += len(charngrams)\n",
    "            for ch in charngrams:\n",
    "                if ch not  in chars[n]:\n",
    "                    chars[n][ch] = 0\n",
    "                chars[n][ch] += 1                \n",
    "    \n",
    "    for n in n_chars:\n",
    "        for ch in chars[n]:\n",
    "            chars[n][ch] /= ndict[n]\n",
    "        \n",
    "    return chars"
   ]
  },
  {
   "cell_type": "code",
   "execution_count": 4,
   "metadata": {},
   "outputs": [
    {
     "name": "stderr",
     "output_type": "stream",
     "text": [
      "100%|██████████| 370099/370099 [00:01<00:00, 283289.70it/s]\n"
     ]
    }
   ],
   "source": [
    "freqs = build_freqs(lines, [2])"
   ]
  },
  {
   "cell_type": "code",
   "execution_count": 5,
   "metadata": {},
   "outputs": [],
   "source": [
    "freqs = freqs[2]\n",
    "import json\n",
    "with open(\"en_frequencies_char2grams.json\", \"w\", encoding='utf-8') as f:\n",
    "    json.dump(freqs, f)"
   ]
  },
  {
   "cell_type": "code",
   "execution_count": 259,
   "metadata": {},
   "outputs": [],
   "source": []
  },
  {
   "cell_type": "code",
   "execution_count": 9,
   "metadata": {},
   "outputs": [],
   "source": [
    "def count_metric(word, freqs, charn):\n",
    "    if len(word)< charn:\n",
    "        return -1\n",
    "    chgm = build_charngram(word, charn)\n",
    "    parts = [magic(freqs[ch]) if ch in freqs else 0.0001 for ch in chgm]\n",
    "    return np.mean(parts)\n",
    "    #return sum(parts)/len(parts)\n",
    "\n",
    "\n",
    "def magic(n):\n",
    "    return math.log(n)\n",
    "    #return 1000*n"
   ]
  },
  {
   "cell_type": "code",
   "execution_count": 10,
   "metadata": {},
   "outputs": [
    {
     "name": "stdout",
     "output_type": "stream",
     "text": [
      "-11.170876248996937\n",
      "-4.9519482780454265\n",
      "-5.7326650768013225\n"
     ]
    }
   ],
   "source": [
    "print(count_metric('yyu', freqs, 2))\n",
    "print(count_metric('london', freqs, 2))\n",
    "print(count_metric('celt', freqs, 2))"
   ]
  },
  {
   "cell_type": "code",
   "execution_count": 11,
   "metadata": {},
   "outputs": [
    {
     "name": "stdout",
     "output_type": "stream",
     "text": [
      "median: -5.341076626532273\n",
      "mean: -5.423550680940203\n"
     ]
    }
   ],
   "source": [
    "metrics = [count_metric(word, freqs, 2) for word in lines]\n",
    "print('median: {0}'.format(np.median(metrics)))\n",
    "print('mean: {0}'.format(np.mean(metrics)))"
   ]
  },
  {
   "cell_type": "code",
   "execution_count": 16,
   "metadata": {},
   "outputs": [
    {
     "data": {
      "text/plain": [
       "-5.239118926879614"
      ]
     },
     "execution_count": 16,
     "metadata": {},
     "output_type": "execute_result"
    }
   ],
   "source": [
    "threshold = np.percentile(metrics, 60)\n",
    "threshold"
   ]
  },
  {
   "cell_type": "code",
   "execution_count": 13,
   "metadata": {},
   "outputs": [
    {
     "data": {
      "text/plain": [
       "(array([1.80000e+01, 2.70000e+01, 6.00000e+01, 1.73000e+02, 4.78000e+02,\n",
       "        8.74200e+03, 2.32366e+05, 1.28209e+05, 0.00000e+00, 2.60000e+01]),\n",
       " array([-14.95480755, -13.5593268 , -12.16384604, -10.76836529,\n",
       "         -9.37288453,  -7.97740378,  -6.58192302,  -5.18644227,\n",
       "         -3.79096151,  -2.39548076,  -1.        ]),\n",
       " <a list of 10 Patch objects>)"
      ]
     },
     "execution_count": 13,
     "metadata": {},
     "output_type": "execute_result"
    },
    {
     "data": {
      "image/png": "[encoded data removed]",
      "text/plain": [
       "<Figure size 432x288 with 1 Axes>"
      ]
     },
     "metadata": {
      "needs_background": "light"
     },
     "output_type": "display_data"
    }
   ],
   "source": [
    "plt.hist(metrics)"
   ]
  },
  {
   "cell_type": "code",
   "execution_count": null,
   "metadata": {},
   "outputs": [],
   "source": []
  },
  {
   "cell_type": "code",
   "execution_count": 17,
   "metadata": {},
   "outputs": [],
   "source": [
    "with open('rus_switched.txt', 'r',  encoding='utf-8') as f:\n",
    "    russ = f.readlines()\n",
    "ruslines = [x.replace('\\n', '') for x in russ]"
   ]
  },
  {
   "cell_type": "code",
   "execution_count": 18,
   "metadata": {},
   "outputs": [
    {
     "name": "stdout",
     "output_type": "stream",
     "text": [
      "median: -8.20861982601792\n",
      "mean: -7.822287238181311\n"
     ]
    }
   ],
   "source": [
    "metrics_rus = [count_metric(word, freqs, 2) for word in ruslines]\n",
    "print('median: {0}'.format(np.median(metrics_rus)))\n",
    "print('mean: {0}'.format(np.mean(metrics_rus)))"
   ]
  },
  {
   "cell_type": "code",
   "execution_count": 19,
   "metadata": {},
   "outputs": [
    {
     "data": {
      "text/plain": [
       "(array([   75.,   604.,  5780., 26060., 31150., 18443., 11597.,  3085.,\n",
       "         1148.,  2054.]),\n",
       " array([-1.49548076e+01, -1.34593168e+01, -1.19638260e+01, -1.04683353e+01,\n",
       "        -8.97284453e+00, -7.47735378e+00, -5.98186302e+00, -4.48637227e+00,\n",
       "        -2.99088151e+00, -1.49539076e+00,  1.00000000e-04]),\n",
       " <a list of 10 Patch objects>)"
      ]
     },
     "execution_count": 19,
     "metadata": {},
     "output_type": "execute_result"
    },
    {
     "data": {
      "image/png": "[encoded data removed]",
      "text/plain": [
       "<Figure size 432x288 with 1 Axes>"
      ]
     },
     "metadata": {
      "needs_background": "light"
     },
     "output_type": "display_data"
    }
   ],
   "source": [
    "plt.hist(metrics_rus)"
   ]
  },
  {
   "cell_type": "code",
   "execution_count": 20,
   "metadata": {},
   "outputs": [
    {
     "data": {
      "text/plain": [
       "0.00010000000000000002"
      ]
     },
     "execution_count": 20,
     "metadata": {},
     "output_type": "execute_result"
    }
   ],
   "source": [
    "np.max(metrics_rus)"
   ]
  },
  {
   "cell_type": "code",
   "execution_count": 21,
   "metadata": {},
   "outputs": [
    {
     "data": {
      "text/plain": [
       "-4.021411931277571"
      ]
     },
     "execution_count": 21,
     "metadata": {},
     "output_type": "execute_result"
    }
   ],
   "source": [
    "np.percentile(metrics_rus, 95)"
   ]
  }
 ],
 "metadata": {
  "kernelspec": {
   "display_name": "Python 3",
   "language": "python",
   "name": "python3"
  },
  "language_info": {
   "codemirror_mode": {
    "name": "ipython",
    "version": 3
   },
   "file_extension": ".py",
   "mimetype": "text/x-python",
   "name": "python",
   "nbconvert_exporter": "python",
   "pygments_lexer": "ipython3",
   "version": "3.6.7"
  }
 },
 "nbformat": 4,
 "nbformat_minor": 2
}
