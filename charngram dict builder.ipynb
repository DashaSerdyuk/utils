{
 "cells": [
  {
   "cell_type": "code",
   "execution_count": 95,
   "metadata": {},
   "outputs": [],
   "source": [
    "from tqdm import tqdm\n",
    "import math\n",
    "import numpy as np\n",
    "import matplotlib.pyplot as plt\n",
    "%matplotlib inline"
   ]
  },
  {
   "cell_type": "code",
   "execution_count": 96,
   "metadata": {},
   "outputs": [],
   "source": [
    "FILENAME_1 = 'english_dict1.txt'\n",
    "FILENAME_2 = '/home/dasha/work/jungle/google-10000-english/20k.txt'\n",
    "FILENAME_3 = '/home/dasha/work/personal/utils/english3.txt'\n",
    "FILENAME_4 = '/home/dasha/work/personal/utils/words_alpha.txt'"
   ]
  },
  {
   "cell_type": "code",
   "execution_count": 97,
   "metadata": {},
   "outputs": [],
   "source": [
    "with open(FILENAME_3, 'r', encoding='utf-8') as f:\n",
    "    lines = f.readlines()\n",
    "lines = [line.replace('\\n', '') for line in lines]"
   ]
  },
  {
   "cell_type": "code",
   "execution_count": 98,
   "metadata": {
    "scrolled": true
   },
   "outputs": [
    {
     "data": {
      "text/plain": [
       "['a',\n",
       " 'aa',\n",
       " 'aaa',\n",
       " 'aachen',\n",
       " 'aardvark',\n",
       " 'aardvarks',\n",
       " 'aardwolf',\n",
       " 'aardwolves',\n",
       " 'aarhus',\n",
       " 'aaron',\n",
       " 'aaronic',\n",
       " 'aaronical',\n",
       " 'aasvogel',\n",
       " 'aasvogels',\n",
       " 'ab',\n",
       " 'aba',\n",
       " 'ababa',\n",
       " 'abac',\n",
       " 'abaca',\n",
       " 'abacas',\n",
       " 'abaci',\n",
       " 'aback',\n",
       " 'abacs',\n",
       " 'abactinal',\n",
       " 'abactinally',\n",
       " 'abactor',\n",
       " 'abactors',\n",
       " 'abacus',\n",
       " 'abacuses',\n",
       " 'abadan',\n",
       " 'abaddon',\n",
       " 'abaft',\n",
       " 'abalone',\n",
       " 'abalones',\n",
       " 'abampere',\n",
       " 'abamperes',\n",
       " 'aband',\n",
       " 'abandon',\n",
       " 'abandoned',\n",
       " 'abandonedly',\n",
       " 'abandonee',\n",
       " 'abandonees',\n",
       " 'abandoning',\n",
       " 'abandonment',\n",
       " 'abandonments',\n",
       " 'abandons',\n",
       " 'abas',\n",
       " 'abase',\n",
       " 'abased',\n",
       " 'abasement']"
      ]
     },
     "execution_count": 98,
     "metadata": {},
     "output_type": "execute_result"
    }
   ],
   "source": [
    "lines[:50]"
   ]
  },
  {
   "cell_type": "code",
   "execution_count": 99,
   "metadata": {},
   "outputs": [],
   "source": [
    "def build_charngram(word, n):\n",
    "    return [word[i:i+n] for i in range(len(word)-n+1)]\n",
    "\n",
    "def build_freqs(sample):\n",
    "    chars = {}\n",
    "    ndict = 0\n",
    "        \n",
    "    for word in tqdm(sample):\n",
    "        charngrams = build_charngram(word, 2)\n",
    "        ndict += len(charngrams)\n",
    "        for ch in charngrams:\n",
    "            if ch not in chars:\n",
    "                chars[ch] = 0\n",
    "            chars[ch] += 1                \n",
    "    \n",
    "    for ch in chars:\n",
    "        chars[ch] /= ndict\n",
    "        \n",
    "    return chars"
   ]
  },
  {
   "cell_type": "code",
   "execution_count": 100,
   "metadata": {},
   "outputs": [
    {
     "name": "stderr",
     "output_type": "stream",
     "text": [
      "100%|██████████| 194433/194433 [00:00<00:00, 325133.58it/s]\n"
     ]
    }
   ],
   "source": [
    "freqs = build_freqs(lines)"
   ]
  },
  {
   "cell_type": "code",
   "execution_count": 101,
   "metadata": {},
   "outputs": [],
   "source": [
    "import json\n",
    "with open(\"en_frequencies_char2grams.json\", \"w\", encoding='utf-8') as f:\n",
    "    json.dump(freqs, f)"
   ]
  },
  {
   "cell_type": "code",
   "execution_count": 114,
   "metadata": {},
   "outputs": [],
   "source": [
    "def count_metric(word, freqs, charn):\n",
    "    if len(word)< charn:\n",
    "        return -10\n",
    "    chgm = build_charngram(word, charn)\n",
    "    parts = [magic(freqs[ch]) if ch in freqs else 0.0001 for ch in chgm]\n",
    "    return np.mean(parts)\n",
    "    #return sum(parts)/len(parts)\n",
    "\n",
    "\n",
    "def magic(n):\n",
    "    return math.log(n)\n",
    "    #return 1000*n"
   ]
  },
  {
   "cell_type": "code",
   "execution_count": 103,
   "metadata": {},
   "outputs": [
    {
     "name": "stdout",
     "output_type": "stream",
     "text": [
      "-11.19485356937533\n",
      "-5.767660962809352\n",
      "-4.5639257282184795\n",
      "-5.42514850038196\n",
      "-6.502113257488489\n"
     ]
    }
   ],
   "source": [
    "print(count_metric('yyu', freqs, 2))\n",
    "print(count_metric('celt', freqs, 2))\n",
    "print(count_metric('nen', freqs, 2))\n",
    "print(count_metric('smart', freqs, 2))\n",
    "print(count_metric('you', freqs, 2))"
   ]
  },
  {
   "cell_type": "code",
   "execution_count": 115,
   "metadata": {},
   "outputs": [
    {
     "name": "stdout",
     "output_type": "stream",
     "text": [
      "-7.30852694751901\n",
      "-10\n",
      "-5.2980676692144435\n",
      "-7.540351022779898\n",
      "-7.9692894139434145\n",
      "-8.371813814263678\n",
      "-5.42514850038196\n"
     ]
    }
   ],
   "source": [
    "for s in 'gjxtve e vtyz yt gjlrk.xftncz nfhba smart'.split():\n",
    "    print(count_metric(s, freqs, 2))"
   ]
  },
  {
   "cell_type": "code",
   "execution_count": 104,
   "metadata": {},
   "outputs": [
    {
     "name": "stdout",
     "output_type": "stream",
     "text": [
      "median: -5.325488856089682\n",
      "mean: -5.404016341787798\n"
     ]
    }
   ],
   "source": [
    "metrics = [count_metric(word, freqs, 2) for word in lines]\n",
    "print('median: {0}'.format(np.median(metrics)))\n",
    "print('mean: {0}'.format(np.mean(metrics)))"
   ]
  },
  {
   "cell_type": "code",
   "execution_count": 105,
   "metadata": {},
   "outputs": [
    {
     "data": {
      "text/plain": [
       "-4.993361861340855"
      ]
     },
     "execution_count": 105,
     "metadata": {},
     "output_type": "execute_result"
    }
   ],
   "source": [
    "threshold = np.percentile(metrics, 80)\n",
    "threshold"
   ]
  },
  {
   "cell_type": "code",
   "execution_count": 106,
   "metadata": {},
   "outputs": [
    {
     "data": {
      "text/plain": [
       "(array([7.00000e+00, 8.00000e+00, 2.30000e+01, 6.10000e+01, 4.20000e+02,\n",
       "        1.02020e+04, 1.48386e+05, 3.53000e+04, 0.00000e+00, 2.60000e+01]),\n",
       " array([-14.23367469, -12.91030722, -11.58693975, -10.26357228,\n",
       "         -8.94020481,  -7.61683735,  -6.29346988,  -4.97010241,\n",
       "         -3.64673494,  -2.32336747,  -1.        ]),\n",
       " <a list of 10 Patch objects>)"
      ]
     },
     "execution_count": 106,
     "metadata": {},
     "output_type": "execute_result"
    },
    {
     "data": {
      "image/png": "[encoded data removed]",
      "text/plain": [
       "<Figure size 432x288 with 1 Axes>"
      ]
     },
     "metadata": {
      "needs_background": "light"
     },
     "output_type": "display_data"
    }
   ],
   "source": [
    "plt.hist(metrics)"
   ]
  },
  {
   "cell_type": "code",
   "execution_count": null,
   "metadata": {},
   "outputs": [],
   "source": []
  },
  {
   "cell_type": "code",
   "execution_count": 107,
   "metadata": {},
   "outputs": [],
   "source": [
    "with open('rus_switched.txt', 'r',  encoding='utf-8') as f:\n",
    "    russ = f.readlines()\n",
    "ruslines = [x.replace('\\n', '') for x in russ]"
   ]
  },
  {
   "cell_type": "code",
   "execution_count": 108,
   "metadata": {},
   "outputs": [
    {
     "name": "stdout",
     "output_type": "stream",
     "text": [
      "median: -7.69738259563874\n",
      "mean: -7.419255386037624\n"
     ]
    }
   ],
   "source": [
    "metrics_rus = [count_metric(word, freqs, 2) for word in ruslines]\n",
    "print('median: {0}'.format(np.median(metrics_rus)))\n",
    "print('mean: {0}'.format(np.mean(metrics_rus)))"
   ]
  },
  {
   "cell_type": "code",
   "execution_count": 109,
   "metadata": {},
   "outputs": [
    {
     "data": {
      "text/plain": [
       "([array([  128.,   929.,  7126., 23774., 29272., 20411., 11665.,  3325.,\n",
       "          1216.,  2150.]),\n",
       "  array([7.00000e+00, 1.30000e+01, 2.70000e+01, 9.60000e+01, 1.31800e+03,\n",
       "         4.43290e+04, 1.48496e+05, 1.21000e+02, 0.00000e+00, 2.60000e+01])],\n",
       " array([-1.42336747e+01, -1.28102972e+01, -1.13869198e+01, -9.96354228e+00,\n",
       "        -8.54016481e+00, -7.11678735e+00, -5.69340988e+00, -4.27003241e+00,\n",
       "        -2.84665494e+00, -1.42327747e+00,  1.00000000e-04]),\n",
       " <a list of 2 Lists of Patches objects>)"
      ]
     },
     "execution_count": 109,
     "metadata": {},
     "output_type": "execute_result"
    },
    {
     "data": {
      "image/png": "[encoded data removed]",
      "text/plain": [
       "<Figure size 432x288 with 1 Axes>"
      ]
     },
     "metadata": {
      "needs_background": "light"
     },
     "output_type": "display_data"
    }
   ],
   "source": [
    "plt.hist([metrics_rus, metrics], color=['g','b'])"
   ]
  },
  {
   "cell_type": "code",
   "execution_count": 110,
   "metadata": {},
   "outputs": [
    {
     "data": {
      "text/plain": [
       "0.00010000000000000002"
      ]
     },
     "execution_count": 110,
     "metadata": {},
     "output_type": "execute_result"
    }
   ],
   "source": [
    "np.max(metrics_rus)"
   ]
  },
  {
   "cell_type": "code",
   "execution_count": 111,
   "metadata": {},
   "outputs": [
    {
     "data": {
      "text/plain": [
       "-3.7141440792305107"
      ]
     },
     "execution_count": 111,
     "metadata": {},
     "output_type": "execute_result"
    }
   ],
   "source": [
    "np.percentile(metrics_rus, 95)"
   ]
  }
 ],
 "metadata": {
  "kernelspec": {
   "display_name": "Python 3",
   "language": "python",
   "name": "python3"
  },
  "language_info": {
   "codemirror_mode": {
    "name": "ipython",
    "version": 3
   },
   "file_extension": ".py",
   "mimetype": "text/x-python",
   "name": "python",
   "nbconvert_exporter": "python",
   "pygments_lexer": "ipython3",
   "version": "3.6.7"
  }
 },
 "nbformat": 4,
 "nbformat_minor": 2
}
